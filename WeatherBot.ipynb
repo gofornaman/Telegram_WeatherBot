{
 "cells": [
  {
   "cell_type": "markdown",
   "metadata": {},
   "source": [
    "# Weather + Telegram Bot"
   ]
  },
  {
   "cell_type": "markdown",
   "metadata": {},
   "source": [
    "Let me tell you a story about Raju.\n",
    "Raju is a smart coder. Raju is not very popular at school. His classmates are always mean to him. Raju didn't really care about that but his mother was worried.\n",
    "She wanted Raju to be social and talk with other kids, text with them, call them, play with them and so on.\n",
    "\n",
    "So inorder to keep his mother happy he came up with a solution.\n",
    "He thought \"What if I make a Bot that talks/ texts me. How cool it will be and also mom will be happy thinking that I'm talking to other kids\""
   ]
  },
  {
   "cell_type": "markdown",
   "metadata": {},
   "source": [
    "This automated replying machine is called as a \"Chatbot\" or simply \"Bot\".\n",
    "It can be used for variety of purposes such as for News, Weather, Jokes, Games or simply chatting. <br>\n",
    "Remember Natasha from Hike?"
   ]
  },
  {
   "cell_type": "markdown",
   "metadata": {},
   "source": [
    "![Natasha from Hike](https://galaxyis.com/wp-content/uploads/2017/07/Hike-Natasha.png)"
   ]
  },
  {
   "cell_type": "markdown",
   "metadata": {},
   "source": [
    "Well, now you do. \n",
    "\n",
    "So today, we are going to build a Bot that will fetch our location and display weather on Telegram.\n",
    "If you are wondering what is Telegram, it is a messaging app like WhatsApp.\n",
    "\n",
    "## Why are we choosing Telegram?\n",
    "\n",
    "Yes, we are choosing Telegram because they provide a flexible platform for developing bots.\n",
    "\n",
    "## What else do we need?\n",
    "\n",
    "We need - \n",
    "    1. Telegram API Token\n",
    "    2. Weather API Token (Open Weather Map)\n",
    "    3. Python/ Anaconda\n",
    "\n",
    "So what are we waiting for? Let's get started!"
   ]
  },
  {
   "cell_type": "markdown",
   "metadata": {},
   "source": [
    "## Step 1 - Setting up environment for Telegram\n",
    "\n",
    "1. Take out your phone and download \"Telegram\" application. It on both Andoid & iOS. \n",
    "\n",
    "![This is what it looks like](https://guides.yoosecurity.com/wp-content/uploads/2017/08/Application-Telegram-Samsung-Z3-700.jpg)\n",
    "\n",
    "2. Sign up using your phone number.\n",
    "\n",
    "Done? Cool\n",
    "\n",
    "3. Now open the web application of Telegram (https://web.telegram.org/) because we don't want to juggle between phone and laptop. \n",
    "\n",
    "4. Login to Telegram using your phone number\n",
    "\n",
    "Ok so first we need to get a Token for our bot, to do that go to telegram and search for the “BotFather” and send the command /newbot\n",
    "\n",
    "(By the way, yes BotFather is a pun on GodFather movie :D)\n",
    "\n",
    "![This is what it looks like](pics/2.PNG)"
   ]
  },
  {
   "cell_type": "markdown",
   "metadata": {},
   "source": [
    "This is what it looks like. <br>\n",
    "\n",
    "3. Next you have to give the command \"/newbot\"\n",
    "\n",
    "4. Then choose a name for your bot. I'm going to call it \"WeatherBot\"\n",
    "\n",
    "5. It will ask you for a name and an Username for the Bot (You can’t repeat a username so you have to create a unique one, usually with Bot at the end), in the last question it will answer with the Token and a Url that takes you to the chat with your bot.\n",
    "\n",
    "The token looks something like 444895081:AAGaXKoCPNicDRUQt30xP7gD2t8t6pDDGe0, but we’ll simply use <token> to refer to it in our code. Now, copy the Token on a safe place, we will use it later.\n",
    "\n",
    "![This is what it looks like](pics/3.PNG)\n"
   ]
  },
  {
   "cell_type": "markdown",
   "metadata": {},
   "source": [
    "Awesome. Step-1 is done. So far you're doing great! let's hop on to next step"
   ]
  },
  {
   "cell_type": "markdown",
   "metadata": {},
   "source": [
    "## Step-2 Setting up Weather API \n",
    "\n",
    "We will use Open Weather Maps for this. You can sign up here and request an API token - http://openweathermap.org/appid\n",
    "\n",
    "Go to the API Keys tab and copy the key.\n",
    "\n",
    "![This is what it looks like](pics/4.PNG)\n",
    "\n",
    "\n",
    "So far so good right? <br>\n",
    "\n",
    "Now lets move on to the next to the coding part!\n",
    "\n",
    "## Step-3 Integration with Python\n",
    "\n",
    "Now we have our Telegram API & Weather API. All we need to do is integrate them so that we can access it right from one point. \n",
    "\n",
    "But first we need to import some libraries. From the previous classes, we know how to import libraries and run python scripts. That is exactly what we are going to do again.\n",
    "\n",
    "So fire up your command prompt/ terminal and give this command\n",
    "\n",
    "I'm assuming that you are using Python 2.7.x if not then give this command ---- <br>\n",
    "conda create --name python27 python==2.7 <br>\n",
    "activate python27 <br>\n",
    "\n",
    "If you're already using Python 2.7.x then ignore this step"
   ]
  },
  {
   "cell_type": "raw",
   "metadata": {},
   "source": [
    "#installing bot libs\n",
    "pip install twx.botapi\n",
    "\n",
    "#next we are going to install \"pyowm\" which is a Python wrapper around the OpenWeatherMap web API\n",
    "pip install pyowm"
   ]
  },
  {
   "cell_type": "markdown",
   "metadata": {},
   "source": [
    "Now open your favorite text editor (Notepad/ Sublime) and start typing in this code"
   ]
  },
  {
   "cell_type": "code",
   "execution_count": 3,
   "metadata": {},
   "outputs": [],
   "source": [
    "#Let us first import all the necessary libs\n",
    "\n",
    "import sys\n",
    "from time import sleep\n",
    "from twx.botapi import TelegramBot, ReplyKeyboardMarkup #Telegram BotAPI\n",
    "import traceback\n",
    "from pyowm import OWM #Weather API"
   ]
  },
  {
   "cell_type": "code",
   "execution_count": 5,
   "metadata": {},
   "outputs": [
    {
     "name": "stdout",
     "output_type": "stream",
     "text": [
      "acadview_weatherbot\n"
     ]
    }
   ],
   "source": [
    "#Setup the bot and the Weather API\n",
    "\n",
    "TOKEN = \"444895081:AAGaXKoCPNicDRUQt30xP7gD2t8t6pDDGe0\" #Put your token here\n",
    "OWMKEY = \"eb42501e027e831189eb737c477b3691\" #Put your key here\n",
    "bot = TelegramBot(TOKEN) \n",
    "bot.update_bot_info().wait()  #wait for a message\n",
    "print bot.username \n",
    "last_update_id = 0 "
   ]
  },
  {
   "cell_type": "markdown",
   "metadata": {},
   "source": [
    "If you get this output, so far you've done a good job.\n",
    "\n",
    "Remember when we learnt about Python functions from class [x] <br>\n",
    "We are going to create a new function here called \"process_message\" with two parameters"
   ]
  },
  {
   "cell_type": "code",
   "execution_count": null,
   "metadata": {},
   "outputs": [],
   "source": [
    "def process_message(bot, u): #This is what we'll do when we get a message \n",
    "    #Use a custom keyboard \n",
    "    keyboard = [['Get Weather']] #Setting a Button to Get the Weather \n",
    "    reply_markup = ReplyKeyboardMarkup.create(keyboard) #And create the keyboard \n",
    "    if u.message.sender and u.message.text and u.message.chat: #if it is a text message then get it \n",
    "        chat_id = u.message.chat.id \n",
    "        user = u.message.sender.username\n",
    "        message = u.message.text \n",
    "        print chat_id \n",
    "        print message \n",
    "        if message == 'Get Weather': #if the user is asking for the weather then we ask the location \n",
    "            bot.send_message(chat_id, 'please send me your location') \n",
    "        else: \n",
    "            bot.send_message(chat_id, 'please select an option', reply_markup=reply_markup).wait() #if not then just show the options\n",
    " \n",
    "    elif u.message.location: #if the message contains a location then get the weather on that latitude/longitude \n",
    "        print u.message.location \n",
    "        chat_id = u.message.chat.id \n",
    "        owm = OWM(OWMKEY) #initialize the Weather API \n",
    "        obs = owm.weather_at_coords(u.message.location.latitude, u.message.location.longitude) #Create a weather observation \n",
    "        w = obs.get_weather() #create the object Weather as w \n",
    "        print(w) # <Weather - reference time=2013-12-18 09:20, status=Clouds> \n",
    "        l = obs.get_location() #create a location related to our already created weather object And send the parameters \n",
    "        status = str(w.get_detailed_status()) \n",
    "        placename = str(l.get_name()) \n",
    "        wtime = str(w.get_reference_time(timeformat='iso')) \n",
    "        temperature = str(w.get_temperature('celsius').get('temp'))\n",
    "        bot.send_message(chat_id, 'Weather Status: ' +status +' At '+placename+' ' +wtime+' Temperature: '+ temperature+ 'C') #send the anwser\n",
    "        bot.send_message(chat_id, 'please select an option', reply_markup=reply_markup).wait() #send the options again\n",
    "    else: \n",
    "        print u.bot.send_message(chat_id, 'please select an option', reply_markup=reply_markup).wait() \n",
    "while True: #a loop to wait for messages\n",
    "    updates = bot.get_updates(offset = last_update_id).wait() #we wait for a message\n",
    "    try: \n",
    "        for update in updates: #get the messages\n",
    "            if int(update.update_id) > int(last_update_id): #if it is a new message then get it\n",
    "                last_update_id = update.update_id \n",
    "                process_message(bot, update) #send it to the function \n",
    "                continue \n",
    "        continue \n",
    "    except Exception: \n",
    "        ex = None \n",
    "        print traceback.format_exc() \n",
    "        continue"
   ]
  },
  {
   "cell_type": "markdown",
   "metadata": {},
   "source": [
    "That's it! Now you can save it as \"app.py\" and run it using this command"
   ]
  },
  {
   "cell_type": "raw",
   "metadata": {},
   "source": [
    "python app.py"
   ]
  },
  {
   "cell_type": "markdown",
   "metadata": {},
   "source": [
    "## Its testing time!\n",
    "\n",
    "Now take out your phone and search for \"acadview_weatherbot\" or your bot's unique name and click on /start\n",
    "\n",
    "\n",
    "This is what it looks like on my phone \n",
    "\n",
    "![This is what it looks like](pics/5.PNG)\n"
   ]
  },
  {
   "cell_type": "markdown",
   "metadata": {},
   "source": [
    "Note: To send the locataion, you can click on attachements and then send your current location.\n",
    "\n",
    "Meanwhile in our backend, this is what's going on\n",
    "\n",
    "![This is what it looks like](pics/6.PNG)"
   ]
  },
  {
   "cell_type": "markdown",
   "metadata": {},
   "source": [
    "## Congratulations!\n",
    "\n",
    "You have now successfully made your own bot."
   ]
  },
  {
   "cell_type": "code",
   "execution_count": null,
   "metadata": {},
   "outputs": [],
   "source": []
  }
 ],
 "metadata": {
  "kernelspec": {
   "display_name": "Python 2",
   "language": "python",
   "name": "python2"
  },
  "language_info": {
   "codemirror_mode": {
    "name": "ipython",
    "version": 2
   },
   "file_extension": ".py",
   "mimetype": "text/x-python",
   "name": "python",
   "nbconvert_exporter": "python",
   "pygments_lexer": "ipython2",
   "version": "2.7.14"
  }
 },
 "nbformat": 4,
 "nbformat_minor": 2
}
